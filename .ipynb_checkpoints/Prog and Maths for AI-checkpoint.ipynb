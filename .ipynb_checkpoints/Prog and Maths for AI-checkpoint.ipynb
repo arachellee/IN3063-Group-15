{
 "cells": [
  {
   "cell_type": "code",
   "execution_count": null,
   "id": "5cc5ace5-a629-4acf-a29f-8c8f8d9644bd",
   "metadata": {},
   "outputs": [],
   "source": []
  }
 ],
 "metadata": {
  "kernelspec": {
   "display_name": "Python 3 (ipykernel)",
   "language": "python",
   "name": "python3"
  },
  "language_info": {
   "codemirror_mode": {
    "name": "ipython",
    "version": 3
   },
   "file_extension": ".py",
   "mimetype": "text/x-python",
   "name": "python",
   "nbconvert_exporter": "python",
   "pygments_lexer": "ipython3",
   "version": "3.12.4"
  }
 },
 "nbformat": 4,
 "nbformat_minor": 5
}
